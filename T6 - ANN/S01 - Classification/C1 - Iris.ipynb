{
 "cells": [
  {
   "cell_type": "markdown",
   "metadata": {},
   "source": [
    "# Iris dataset\n",
    "\n",
    "2 attributes\n",
    "\n",
    "### Packages\n",
    "- `pip install tensorflow==2.12`\n",
    "- The current tensorflow version is 2.15 (as of Feb 2024).  However, We will use another package `scikeras` which requires older TF version."
   ]
  },
  {
   "cell_type": "code",
   "execution_count": 1,
   "metadata": {},
   "outputs": [],
   "source": [
    "import tensorflow as tf\n",
    "from sklearn import datasets\n",
    "from sklearn.model_selection import train_test_split\n",
    "from sklearn.preprocessing import StandardScaler\n",
    "import matplotlib.pyplot as plt\n",
    "import numpy as np\n",
    "import pandas as pd"
   ]
  },
  {
   "cell_type": "code",
   "execution_count": 2,
   "metadata": {},
   "outputs": [
    {
     "name": "stdout",
     "output_type": "stream",
     "text": [
      "TensorFlow version: 2.13.0\n"
     ]
    }
   ],
   "source": [
    "# Check TensorFlow version\n",
    "print(\"TensorFlow version:\", tf.__version__)"
   ]
  },
  {
   "cell_type": "code",
   "execution_count": 3,
   "metadata": {},
   "outputs": [],
   "source": [
    "# Read data\n",
    "iris = datasets.load_iris()\n",
    "\n",
    "# Create a DataFrame\n",
    "df = pd.DataFrame(data=iris.data, columns=iris.feature_names)\n",
    "df[\"target\"] = iris.target"
   ]
  },
  {
   "cell_type": "code",
   "execution_count": 4,
   "metadata": {},
   "outputs": [
    {
     "name": "stdout",
     "output_type": "stream",
     "text": [
      "[0 0 0 0 0 0 0 0 0 0 0 0 0 0 0 0 0 0 0 0 0 0 0 0 0 0 0 0 0 0 0 0 0 0 0 0 0\n",
      " 0 0 0 0 0 0 0 0 0 0 0 0 0 1 1 1 1 1 1 1 1 1 1 1 1 1 1 1 1 1 1 1 1 1 1 1 1\n",
      " 1 1 1 1 1 1 1 1 1 1 1 1 1 1 1 1 1 1 1 1 1 1 1 1 1 1 2 2 2 2 2 2 2 2 2 2 2\n",
      " 2 2 2 2 2 2 2 2 2 2 2 2 2 2 2 2 2 2 2 2 2 2 2 2 2 2 2 2 2 2 2 2 2 2 2 2 2\n",
      " 2 2]\n",
      "[2 1 0 2 0 2 0 1 1 1 2 1 1 1 1 0 1 1 0 0 2 1 0 0 2 0 0 1 1 0 2 1 0 2 2 1 0\n",
      " 1 1 1 2 0 2 0 0 1 2 2 2 2 1 2 1 1 2 2 2 2 1 2 1 0 2 1 1 1 1 2 0 0 2 1 0 0\n",
      " 1 0 2 1 0 1 2 1 0 2 2 2 2 0 0 2 2 0 2 0 2 2 0 0 2 0 0 0 1 2 2 0 0 0 1 1 0\n",
      " 0 1 0 2 1 2 1 0 2 0 2 0 0 2 0 2 1 1 1 2 2 1 1 0 1 2 2 0 1 1 1 1 0 0 0 2 1\n",
      " 2 0]\n"
     ]
    }
   ],
   "source": [
    "# Shuffle the DataFrame (frac=1 means all rows)\n",
    "# This is because the validatio split is done by taking the last % of the data. \n",
    "# If the data is not shuffled, the validation set will contain only the last class\n",
    "print(df[\"target\"].values)\n",
    "df = df.sample(frac=1, random_state=0)\n",
    "print(df.target.values)"
   ]
  },
  {
   "cell_type": "code",
   "execution_count": 5,
   "metadata": {},
   "outputs": [],
   "source": [
    "# 2 Attributes\n",
    "X = df.iloc[:, 2:4].values\n",
    "y = df[\"target\"].values\n",
    "\n",
    "\n",
    "# Split data into training and testing data\n",
    "X_train, X_test, y_train, y_test = train_test_split(\n",
    "    X, y, test_size=0.3, random_state=1, stratify=y\n",
    ")\n",
    "\n",
    "# Standardization\n",
    "sc = StandardScaler()\n",
    "sc.fit(X_train)\n",
    "X_train_std = sc.transform(X_train)\n",
    "X_test_std = sc.transform(X_test)"
   ]
  },
  {
   "cell_type": "markdown",
   "metadata": {},
   "source": [
    "## Model building\n"
   ]
  },
  {
   "cell_type": "code",
   "execution_count": 6,
   "metadata": {},
   "outputs": [
    {
     "name": "stderr",
     "output_type": "stream",
     "text": [
      "2024-03-01 15:14:23.393894: I metal_plugin/src/device/metal_device.cc:1154] Metal device set to: Apple M2\n",
      "2024-03-01 15:14:23.393920: I metal_plugin/src/device/metal_device.cc:296] systemMemory: 8.00 GB\n",
      "2024-03-01 15:14:23.393929: I metal_plugin/src/device/metal_device.cc:313] maxCacheSize: 2.67 GB\n",
      "2024-03-01 15:14:23.394103: I tensorflow/core/common_runtime/pluggable_device/pluggable_device_factory.cc:303] Could not identify NUMA node of platform GPU ID 0, defaulting to 0. Your kernel may not have been built with NUMA support.\n",
      "2024-03-01 15:14:23.394123: I tensorflow/core/common_runtime/pluggable_device/pluggable_device_factory.cc:269] Created TensorFlow device (/job:localhost/replica:0/task:0/device:GPU:0 with 0 MB memory) -> physical PluggableDevice (device: 0, name: METAL, pci bus id: <undefined>)\n"
     ]
    },
    {
     "name": "stdout",
     "output_type": "stream",
     "text": [
      "Model: \"sequential\"\n",
      "_________________________________________________________________\n",
      " Layer (type)                Output Shape              Param #   \n",
      "=================================================================\n",
      " hidden1 (Dense)             (None, 16)                48        \n",
      "                                                                 \n",
      " output (Dense)              (None, 3)                 51        \n",
      "                                                                 \n",
      "=================================================================\n",
      "Total params: 99 (396.00 Byte)\n",
      "Trainable params: 99 (396.00 Byte)\n",
      "Non-trainable params: 0 (0.00 Byte)\n",
      "_________________________________________________________________\n"
     ]
    }
   ],
   "source": [
    "tf.keras.backend.clear_session()\n",
    "\n",
    "model = tf.keras.Sequential(\n",
    "    [\n",
    "        tf.keras.layers.InputLayer(input_shape=(2,)),\n",
    "        tf.keras.layers.Dense(units=16, activation=\"sigmoid\", name=\"hidden1\"),\n",
    "        tf.keras.layers.Dense(units=3, activation=\"softmax\", name=\"output\"),\n",
    "    ]\n",
    ")\n",
    "\n",
    "model.summary()\n",
    "\n",
    "adam = tf.keras.optimizers.legacy.Adam(learning_rate=0.001)\n",
    "#tf.keras.optimizers.Adam() ใช้ในClass\n",
    "model.compile(\n",
    "    optimizer=adam, loss=\"sparse_categorical_crossentropy\", metrics=[\"accuracy\"]\n",
    ")"
   ]
  },
  {
   "cell_type": "markdown",
   "metadata": {},
   "source": [
    "# Model training\n"
   ]
  },
  {
   "cell_type": "code",
   "execution_count": 7,
   "metadata": {},
   "outputs": [
    {
     "name": "stdout",
     "output_type": "stream",
     "text": [
      "Epoch 1/200\n"
     ]
    },
    {
     "name": "stderr",
     "output_type": "stream",
     "text": [
      "2024-03-01 15:14:23.885816: I tensorflow/core/grappler/optimizers/custom_graph_optimizer_registry.cc:114] Plugin optimizer for device_type GPU is enabled.\n"
     ]
    },
    {
     "name": "stdout",
     "output_type": "stream",
     "text": [
      "6/6 [==============================] - ETA: 0s - loss: 1.1574 - accuracy: 0.3452"
     ]
    },
    {
     "name": "stderr",
     "output_type": "stream",
     "text": [
      "2024-03-01 15:14:25.753860: I tensorflow/core/grappler/optimizers/custom_graph_optimizer_registry.cc:114] Plugin optimizer for device_type GPU is enabled.\n"
     ]
    },
    {
     "name": "stdout",
     "output_type": "stream",
     "text": [
      "6/6 [==============================] - 2s 139ms/step - loss: 1.1574 - accuracy: 0.3452 - val_loss: 1.0714 - val_accuracy: 0.2857\n",
      "Epoch 2/200\n",
      "6/6 [==============================] - 0s 11ms/step - loss: 1.1300 - accuracy: 0.3452 - val_loss: 1.0554 - val_accuracy: 0.2857\n",
      "Epoch 3/200\n",
      "6/6 [==============================] - 0s 13ms/step - loss: 1.1085 - accuracy: 0.3452 - val_loss: 1.0377 - val_accuracy: 0.2857\n",
      "Epoch 4/200\n",
      "6/6 [==============================] - 0s 10ms/step - loss: 1.0875 - accuracy: 0.3452 - val_loss: 1.0203 - val_accuracy: 0.3333\n",
      "Epoch 5/200\n",
      "6/6 [==============================] - 0s 10ms/step - loss: 1.0667 - accuracy: 0.4048 - val_loss: 1.0066 - val_accuracy: 0.5714\n",
      "Epoch 6/200\n",
      "6/6 [==============================] - 0s 10ms/step - loss: 1.0489 - accuracy: 0.5595 - val_loss: 0.9966 - val_accuracy: 0.6667\n",
      "Epoch 7/200\n",
      "6/6 [==============================] - 0s 9ms/step - loss: 1.0356 - accuracy: 0.5952 - val_loss: 0.9873 - val_accuracy: 0.7143\n",
      "Epoch 8/200\n",
      "6/6 [==============================] - 0s 9ms/step - loss: 1.0237 - accuracy: 0.5952 - val_loss: 0.9788 - val_accuracy: 0.7619\n",
      "Epoch 9/200\n",
      "6/6 [==============================] - 0s 10ms/step - loss: 1.0101 - accuracy: 0.6310 - val_loss: 0.9697 - val_accuracy: 0.7619\n",
      "Epoch 10/200\n",
      "6/6 [==============================] - 0s 9ms/step - loss: 0.9972 - accuracy: 0.6310 - val_loss: 0.9586 - val_accuracy: 0.7619\n",
      "Epoch 11/200\n",
      "6/6 [==============================] - 0s 10ms/step - loss: 0.9848 - accuracy: 0.6310 - val_loss: 0.9478 - val_accuracy: 0.7619\n",
      "Epoch 12/200\n",
      "6/6 [==============================] - 0s 10ms/step - loss: 0.9746 - accuracy: 0.6429 - val_loss: 0.9396 - val_accuracy: 0.7619\n",
      "Epoch 13/200\n",
      "6/6 [==============================] - 0s 9ms/step - loss: 0.9628 - accuracy: 0.6429 - val_loss: 0.9329 - val_accuracy: 0.7619\n",
      "Epoch 14/200\n",
      "6/6 [==============================] - 0s 13ms/step - loss: 0.9528 - accuracy: 0.6429 - val_loss: 0.9232 - val_accuracy: 0.7619\n",
      "Epoch 15/200\n",
      "6/6 [==============================] - 0s 10ms/step - loss: 0.9440 - accuracy: 0.6429 - val_loss: 0.9126 - val_accuracy: 0.7619\n",
      "Epoch 16/200\n",
      "6/6 [==============================] - 0s 10ms/step - loss: 0.9346 - accuracy: 0.6429 - val_loss: 0.9011 - val_accuracy: 0.7619\n",
      "Epoch 17/200\n",
      "6/6 [==============================] - 0s 10ms/step - loss: 0.9262 - accuracy: 0.6429 - val_loss: 0.8911 - val_accuracy: 0.7619\n",
      "Epoch 18/200\n",
      "6/6 [==============================] - 0s 10ms/step - loss: 0.9170 - accuracy: 0.6905 - val_loss: 0.8817 - val_accuracy: 0.7619\n",
      "Epoch 19/200\n",
      "6/6 [==============================] - 0s 9ms/step - loss: 0.9084 - accuracy: 0.7976 - val_loss: 0.8738 - val_accuracy: 1.0000\n",
      "Epoch 20/200\n",
      "6/6 [==============================] - 0s 11ms/step - loss: 0.9003 - accuracy: 0.9167 - val_loss: 0.8659 - val_accuracy: 0.9048\n",
      "Epoch 21/200\n",
      "6/6 [==============================] - 0s 10ms/step - loss: 0.8918 - accuracy: 0.9405 - val_loss: 0.8578 - val_accuracy: 0.9048\n",
      "Epoch 22/200\n",
      "6/6 [==============================] - 0s 10ms/step - loss: 0.8842 - accuracy: 0.8929 - val_loss: 0.8510 - val_accuracy: 0.8095\n",
      "Epoch 23/200\n",
      "6/6 [==============================] - 0s 10ms/step - loss: 0.8763 - accuracy: 0.8214 - val_loss: 0.8439 - val_accuracy: 0.8095\n",
      "Epoch 24/200\n",
      "6/6 [==============================] - 0s 10ms/step - loss: 0.8688 - accuracy: 0.7857 - val_loss: 0.8375 - val_accuracy: 0.8095\n",
      "Epoch 25/200\n",
      "6/6 [==============================] - 0s 10ms/step - loss: 0.8616 - accuracy: 0.7738 - val_loss: 0.8308 - val_accuracy: 0.8095\n",
      "Epoch 26/200\n",
      "6/6 [==============================] - 0s 10ms/step - loss: 0.8540 - accuracy: 0.7738 - val_loss: 0.8230 - val_accuracy: 0.8095\n",
      "Epoch 27/200\n",
      "6/6 [==============================] - 0s 9ms/step - loss: 0.8472 - accuracy: 0.7857 - val_loss: 0.8133 - val_accuracy: 0.8095\n",
      "Epoch 28/200\n",
      "6/6 [==============================] - 0s 11ms/step - loss: 0.8396 - accuracy: 0.8214 - val_loss: 0.8042 - val_accuracy: 0.8095\n",
      "Epoch 29/200\n",
      "6/6 [==============================] - 0s 9ms/step - loss: 0.8324 - accuracy: 0.8214 - val_loss: 0.7962 - val_accuracy: 0.8095\n",
      "Epoch 30/200\n",
      "6/6 [==============================] - 0s 8ms/step - loss: 0.8255 - accuracy: 0.8214 - val_loss: 0.7882 - val_accuracy: 0.8095\n",
      "Epoch 31/200\n",
      "6/6 [==============================] - 0s 8ms/step - loss: 0.8183 - accuracy: 0.8214 - val_loss: 0.7805 - val_accuracy: 0.8095\n",
      "Epoch 32/200\n",
      "6/6 [==============================] - 0s 8ms/step - loss: 0.8120 - accuracy: 0.8571 - val_loss: 0.7732 - val_accuracy: 0.8571\n",
      "Epoch 33/200\n",
      "6/6 [==============================] - 0s 8ms/step - loss: 0.8050 - accuracy: 0.8690 - val_loss: 0.7657 - val_accuracy: 0.8571\n",
      "Epoch 34/200\n",
      "6/6 [==============================] - 0s 8ms/step - loss: 0.7980 - accuracy: 0.8571 - val_loss: 0.7581 - val_accuracy: 0.8095\n",
      "Epoch 35/200\n",
      "6/6 [==============================] - 0s 10ms/step - loss: 0.7914 - accuracy: 0.8333 - val_loss: 0.7511 - val_accuracy: 0.8095\n",
      "Epoch 36/200\n",
      "6/6 [==============================] - 0s 9ms/step - loss: 0.7850 - accuracy: 0.8214 - val_loss: 0.7430 - val_accuracy: 0.8095\n",
      "Epoch 37/200\n",
      "6/6 [==============================] - 0s 10ms/step - loss: 0.7781 - accuracy: 0.8214 - val_loss: 0.7357 - val_accuracy: 0.8095\n",
      "Epoch 38/200\n",
      "6/6 [==============================] - 0s 12ms/step - loss: 0.7713 - accuracy: 0.8214 - val_loss: 0.7279 - val_accuracy: 0.8095\n",
      "Epoch 39/200\n",
      "6/6 [==============================] - 0s 11ms/step - loss: 0.7658 - accuracy: 0.7857 - val_loss: 0.7217 - val_accuracy: 0.8095\n",
      "Epoch 40/200\n",
      "6/6 [==============================] - 0s 10ms/step - loss: 0.7589 - accuracy: 0.7500 - val_loss: 0.7153 - val_accuracy: 0.8095\n",
      "Epoch 41/200\n",
      "6/6 [==============================] - 0s 10ms/step - loss: 0.7526 - accuracy: 0.7143 - val_loss: 0.7084 - val_accuracy: 0.8095\n",
      "Epoch 42/200\n",
      "6/6 [==============================] - 0s 10ms/step - loss: 0.7468 - accuracy: 0.7143 - val_loss: 0.7010 - val_accuracy: 0.7619\n",
      "Epoch 43/200\n",
      "6/6 [==============================] - 0s 10ms/step - loss: 0.7405 - accuracy: 0.7143 - val_loss: 0.6939 - val_accuracy: 0.7619\n",
      "Epoch 44/200\n",
      "6/6 [==============================] - 0s 9ms/step - loss: 0.7346 - accuracy: 0.7143 - val_loss: 0.6867 - val_accuracy: 0.7619\n",
      "Epoch 45/200\n",
      "6/6 [==============================] - 0s 11ms/step - loss: 0.7285 - accuracy: 0.7143 - val_loss: 0.6798 - val_accuracy: 0.8095\n",
      "Epoch 46/200\n",
      "6/6 [==============================] - 0s 10ms/step - loss: 0.7224 - accuracy: 0.7381 - val_loss: 0.6737 - val_accuracy: 0.8095\n",
      "Epoch 47/200\n",
      "6/6 [==============================] - 0s 10ms/step - loss: 0.7169 - accuracy: 0.7381 - val_loss: 0.6673 - val_accuracy: 0.8095\n",
      "Epoch 48/200\n",
      "6/6 [==============================] - 0s 10ms/step - loss: 0.7109 - accuracy: 0.7619 - val_loss: 0.6613 - val_accuracy: 0.8095\n",
      "Epoch 49/200\n",
      "6/6 [==============================] - 0s 10ms/step - loss: 0.7053 - accuracy: 0.7857 - val_loss: 0.6554 - val_accuracy: 0.8095\n",
      "Epoch 50/200\n",
      "6/6 [==============================] - 0s 10ms/step - loss: 0.6997 - accuracy: 0.8095 - val_loss: 0.6492 - val_accuracy: 0.8095\n",
      "Epoch 51/200\n",
      "6/6 [==============================] - 0s 10ms/step - loss: 0.6941 - accuracy: 0.8214 - val_loss: 0.6428 - val_accuracy: 0.8095\n",
      "Epoch 52/200\n",
      "6/6 [==============================] - 0s 10ms/step - loss: 0.6886 - accuracy: 0.8214 - val_loss: 0.6375 - val_accuracy: 0.8095\n",
      "Epoch 53/200\n",
      "6/6 [==============================] - 0s 10ms/step - loss: 0.6832 - accuracy: 0.8214 - val_loss: 0.6313 - val_accuracy: 0.8095\n",
      "Epoch 54/200\n",
      "6/6 [==============================] - 0s 12ms/step - loss: 0.6778 - accuracy: 0.8214 - val_loss: 0.6245 - val_accuracy: 0.8095\n",
      "Epoch 55/200\n",
      "6/6 [==============================] - 0s 10ms/step - loss: 0.6729 - accuracy: 0.8214 - val_loss: 0.6173 - val_accuracy: 0.8095\n",
      "Epoch 56/200\n",
      "6/6 [==============================] - 0s 10ms/step - loss: 0.6672 - accuracy: 0.8214 - val_loss: 0.6112 - val_accuracy: 0.8095\n",
      "Epoch 57/200\n",
      "6/6 [==============================] - 0s 13ms/step - loss: 0.6621 - accuracy: 0.8214 - val_loss: 0.6056 - val_accuracy: 0.8095\n",
      "Epoch 58/200\n",
      "6/6 [==============================] - 0s 10ms/step - loss: 0.6568 - accuracy: 0.8333 - val_loss: 0.6005 - val_accuracy: 0.8095\n",
      "Epoch 59/200\n",
      "6/6 [==============================] - 0s 10ms/step - loss: 0.6516 - accuracy: 0.8690 - val_loss: 0.5951 - val_accuracy: 0.8571\n",
      "Epoch 60/200\n",
      "6/6 [==============================] - 0s 10ms/step - loss: 0.6471 - accuracy: 0.8690 - val_loss: 0.5898 - val_accuracy: 0.9048\n",
      "Epoch 61/200\n",
      "6/6 [==============================] - 0s 10ms/step - loss: 0.6423 - accuracy: 0.8690 - val_loss: 0.5851 - val_accuracy: 0.9048\n",
      "Epoch 62/200\n",
      "6/6 [==============================] - 0s 9ms/step - loss: 0.6376 - accuracy: 0.9286 - val_loss: 0.5800 - val_accuracy: 0.9048\n",
      "Epoch 63/200\n",
      "6/6 [==============================] - 0s 14ms/step - loss: 0.6331 - accuracy: 0.9405 - val_loss: 0.5745 - val_accuracy: 0.9048\n",
      "Epoch 64/200\n",
      "6/6 [==============================] - 0s 11ms/step - loss: 0.6282 - accuracy: 0.9286 - val_loss: 0.5698 - val_accuracy: 0.9048\n",
      "Epoch 65/200\n",
      "6/6 [==============================] - 0s 10ms/step - loss: 0.6241 - accuracy: 0.8810 - val_loss: 0.5652 - val_accuracy: 0.9048\n",
      "Epoch 66/200\n",
      "6/6 [==============================] - 0s 11ms/step - loss: 0.6188 - accuracy: 0.8690 - val_loss: 0.5608 - val_accuracy: 0.9048\n",
      "Epoch 67/200\n",
      "6/6 [==============================] - 0s 11ms/step - loss: 0.6144 - accuracy: 0.8810 - val_loss: 0.5568 - val_accuracy: 0.9048\n",
      "Epoch 68/200\n",
      "6/6 [==============================] - 0s 10ms/step - loss: 0.6102 - accuracy: 0.9286 - val_loss: 0.5532 - val_accuracy: 0.9048\n",
      "Epoch 69/200\n",
      "6/6 [==============================] - 0s 11ms/step - loss: 0.6061 - accuracy: 0.9405 - val_loss: 0.5482 - val_accuracy: 0.9048\n",
      "Epoch 70/200\n",
      "6/6 [==============================] - 0s 11ms/step - loss: 0.6016 - accuracy: 0.9405 - val_loss: 0.5437 - val_accuracy: 0.9048\n",
      "Epoch 71/200\n",
      "6/6 [==============================] - 0s 11ms/step - loss: 0.5974 - accuracy: 0.9405 - val_loss: 0.5388 - val_accuracy: 0.9048\n",
      "Epoch 72/200\n",
      "6/6 [==============================] - 0s 10ms/step - loss: 0.5931 - accuracy: 0.9405 - val_loss: 0.5344 - val_accuracy: 0.9048\n",
      "Epoch 73/200\n",
      "6/6 [==============================] - 0s 11ms/step - loss: 0.5888 - accuracy: 0.9405 - val_loss: 0.5297 - val_accuracy: 0.9048\n",
      "Epoch 74/200\n",
      "6/6 [==============================] - 0s 11ms/step - loss: 0.5847 - accuracy: 0.9405 - val_loss: 0.5252 - val_accuracy: 0.9048\n",
      "Epoch 75/200\n",
      "6/6 [==============================] - 0s 10ms/step - loss: 0.5808 - accuracy: 0.9524 - val_loss: 0.5207 - val_accuracy: 0.9048\n",
      "Epoch 76/200\n",
      "6/6 [==============================] - 0s 10ms/step - loss: 0.5767 - accuracy: 0.9524 - val_loss: 0.5167 - val_accuracy: 0.9048\n",
      "Epoch 77/200\n",
      "6/6 [==============================] - 0s 10ms/step - loss: 0.5727 - accuracy: 0.9524 - val_loss: 0.5123 - val_accuracy: 0.9048\n",
      "Epoch 78/200\n",
      "6/6 [==============================] - 0s 9ms/step - loss: 0.5687 - accuracy: 0.9524 - val_loss: 0.5079 - val_accuracy: 0.9048\n",
      "Epoch 79/200\n",
      "6/6 [==============================] - 0s 10ms/step - loss: 0.5650 - accuracy: 0.9405 - val_loss: 0.5036 - val_accuracy: 0.9048\n",
      "Epoch 80/200\n",
      "6/6 [==============================] - 0s 11ms/step - loss: 0.5608 - accuracy: 0.9524 - val_loss: 0.5001 - val_accuracy: 0.9048\n",
      "Epoch 81/200\n",
      "6/6 [==============================] - 0s 9ms/step - loss: 0.5573 - accuracy: 0.9643 - val_loss: 0.4967 - val_accuracy: 0.9048\n",
      "Epoch 82/200\n",
      "6/6 [==============================] - 0s 9ms/step - loss: 0.5537 - accuracy: 0.9643 - val_loss: 0.4929 - val_accuracy: 0.9048\n",
      "Epoch 83/200\n",
      "6/6 [==============================] - 0s 9ms/step - loss: 0.5501 - accuracy: 0.9643 - val_loss: 0.4891 - val_accuracy: 0.9048\n",
      "Epoch 84/200\n",
      "6/6 [==============================] - 0s 9ms/step - loss: 0.5465 - accuracy: 0.9643 - val_loss: 0.4859 - val_accuracy: 0.9048\n",
      "Epoch 85/200\n",
      "6/6 [==============================] - 0s 9ms/step - loss: 0.5427 - accuracy: 0.9643 - val_loss: 0.4828 - val_accuracy: 0.9048\n",
      "Epoch 86/200\n",
      "6/6 [==============================] - 0s 9ms/step - loss: 0.5388 - accuracy: 0.9524 - val_loss: 0.4789 - val_accuracy: 0.9048\n",
      "Epoch 87/200\n",
      "6/6 [==============================] - 0s 8ms/step - loss: 0.5357 - accuracy: 0.9405 - val_loss: 0.4752 - val_accuracy: 0.9048\n",
      "Epoch 88/200\n",
      "6/6 [==============================] - 0s 12ms/step - loss: 0.5321 - accuracy: 0.9405 - val_loss: 0.4719 - val_accuracy: 0.9048\n",
      "Epoch 89/200\n",
      "6/6 [==============================] - 0s 12ms/step - loss: 0.5289 - accuracy: 0.9286 - val_loss: 0.4689 - val_accuracy: 0.9048\n",
      "Epoch 90/200\n",
      "6/6 [==============================] - 0s 9ms/step - loss: 0.5254 - accuracy: 0.8810 - val_loss: 0.4661 - val_accuracy: 0.9048\n",
      "Epoch 91/200\n",
      "6/6 [==============================] - 0s 9ms/step - loss: 0.5222 - accuracy: 0.8810 - val_loss: 0.4627 - val_accuracy: 0.9048\n",
      "Epoch 92/200\n",
      "6/6 [==============================] - 0s 8ms/step - loss: 0.5191 - accuracy: 0.8810 - val_loss: 0.4596 - val_accuracy: 0.9048\n",
      "Epoch 93/200\n",
      "6/6 [==============================] - 0s 8ms/step - loss: 0.5157 - accuracy: 0.8810 - val_loss: 0.4568 - val_accuracy: 0.9048\n",
      "Epoch 94/200\n",
      "6/6 [==============================] - 0s 8ms/step - loss: 0.5125 - accuracy: 0.9286 - val_loss: 0.4537 - val_accuracy: 0.9048\n",
      "Epoch 95/200\n",
      "6/6 [==============================] - 0s 8ms/step - loss: 0.5093 - accuracy: 0.9286 - val_loss: 0.4504 - val_accuracy: 0.9048\n",
      "Epoch 96/200\n",
      "6/6 [==============================] - 0s 8ms/step - loss: 0.5065 - accuracy: 0.9286 - val_loss: 0.4471 - val_accuracy: 0.9048\n",
      "Epoch 97/200\n",
      "6/6 [==============================] - 0s 8ms/step - loss: 0.5031 - accuracy: 0.9405 - val_loss: 0.4440 - val_accuracy: 0.9048\n",
      "Epoch 98/200\n",
      "6/6 [==============================] - 0s 8ms/step - loss: 0.5001 - accuracy: 0.9405 - val_loss: 0.4409 - val_accuracy: 0.9048\n",
      "Epoch 99/200\n",
      "6/6 [==============================] - 0s 8ms/step - loss: 0.4972 - accuracy: 0.9405 - val_loss: 0.4378 - val_accuracy: 0.9048\n",
      "Epoch 100/200\n",
      "6/6 [==============================] - 0s 12ms/step - loss: 0.4940 - accuracy: 0.9524 - val_loss: 0.4350 - val_accuracy: 0.9048\n",
      "Epoch 101/200\n",
      "6/6 [==============================] - 0s 13ms/step - loss: 0.4911 - accuracy: 0.9524 - val_loss: 0.4323 - val_accuracy: 0.9048\n",
      "Epoch 102/200\n",
      "6/6 [==============================] - 0s 9ms/step - loss: 0.4882 - accuracy: 0.9524 - val_loss: 0.4295 - val_accuracy: 0.9048\n",
      "Epoch 103/200\n",
      "6/6 [==============================] - 0s 8ms/step - loss: 0.4855 - accuracy: 0.9643 - val_loss: 0.4268 - val_accuracy: 0.9048\n",
      "Epoch 104/200\n",
      "6/6 [==============================] - 0s 8ms/step - loss: 0.4825 - accuracy: 0.9643 - val_loss: 0.4243 - val_accuracy: 0.9048\n",
      "Epoch 105/200\n",
      "6/6 [==============================] - 0s 8ms/step - loss: 0.4795 - accuracy: 0.9643 - val_loss: 0.4218 - val_accuracy: 0.9048\n",
      "Epoch 106/200\n",
      "6/6 [==============================] - 0s 8ms/step - loss: 0.4767 - accuracy: 0.9643 - val_loss: 0.4194 - val_accuracy: 0.9048\n",
      "Epoch 107/200\n",
      "6/6 [==============================] - 0s 8ms/step - loss: 0.4739 - accuracy: 0.9643 - val_loss: 0.4172 - val_accuracy: 0.9048\n",
      "Epoch 108/200\n",
      "6/6 [==============================] - 0s 8ms/step - loss: 0.4709 - accuracy: 0.9643 - val_loss: 0.4149 - val_accuracy: 0.9048\n",
      "Epoch 109/200\n",
      "6/6 [==============================] - 0s 8ms/step - loss: 0.4681 - accuracy: 0.9643 - val_loss: 0.4126 - val_accuracy: 0.9048\n",
      "Epoch 110/200\n",
      "6/6 [==============================] - 0s 9ms/step - loss: 0.4654 - accuracy: 0.9524 - val_loss: 0.4105 - val_accuracy: 0.9048\n",
      "Epoch 111/200\n",
      "6/6 [==============================] - 0s 11ms/step - loss: 0.4630 - accuracy: 0.9524 - val_loss: 0.4084 - val_accuracy: 0.9048\n",
      "Epoch 112/200\n",
      "6/6 [==============================] - 0s 11ms/step - loss: 0.4601 - accuracy: 0.9524 - val_loss: 0.4058 - val_accuracy: 0.9048\n",
      "Epoch 113/200\n",
      "6/6 [==============================] - 0s 14ms/step - loss: 0.4573 - accuracy: 0.9643 - val_loss: 0.4033 - val_accuracy: 0.9048\n",
      "Epoch 114/200\n",
      "6/6 [==============================] - 0s 12ms/step - loss: 0.4548 - accuracy: 0.9643 - val_loss: 0.4011 - val_accuracy: 0.9048\n",
      "Epoch 115/200\n",
      "6/6 [==============================] - 0s 9ms/step - loss: 0.4523 - accuracy: 0.9643 - val_loss: 0.3987 - val_accuracy: 0.9048\n",
      "Epoch 116/200\n",
      "6/6 [==============================] - 0s 11ms/step - loss: 0.4496 - accuracy: 0.9643 - val_loss: 0.3961 - val_accuracy: 0.9048\n",
      "Epoch 117/200\n",
      "6/6 [==============================] - 0s 11ms/step - loss: 0.4473 - accuracy: 0.9643 - val_loss: 0.3938 - val_accuracy: 0.9048\n",
      "Epoch 118/200\n",
      "6/6 [==============================] - 0s 10ms/step - loss: 0.4451 - accuracy: 0.9643 - val_loss: 0.3915 - val_accuracy: 0.9048\n",
      "Epoch 119/200\n",
      "6/6 [==============================] - 0s 10ms/step - loss: 0.4423 - accuracy: 0.9643 - val_loss: 0.3891 - val_accuracy: 0.9048\n",
      "Epoch 120/200\n",
      "6/6 [==============================] - 0s 11ms/step - loss: 0.4397 - accuracy: 0.9643 - val_loss: 0.3868 - val_accuracy: 0.9048\n",
      "Epoch 121/200\n",
      "6/6 [==============================] - 0s 10ms/step - loss: 0.4373 - accuracy: 0.9643 - val_loss: 0.3846 - val_accuracy: 0.9048\n",
      "Epoch 122/200\n",
      "6/6 [==============================] - 0s 10ms/step - loss: 0.4350 - accuracy: 0.9643 - val_loss: 0.3822 - val_accuracy: 0.9048\n",
      "Epoch 123/200\n",
      "6/6 [==============================] - 0s 8ms/step - loss: 0.4325 - accuracy: 0.9643 - val_loss: 0.3798 - val_accuracy: 0.9048\n",
      "Epoch 124/200\n",
      "6/6 [==============================] - 0s 8ms/step - loss: 0.4300 - accuracy: 0.9762 - val_loss: 0.3777 - val_accuracy: 0.9524\n",
      "Epoch 125/200\n",
      "6/6 [==============================] - 0s 8ms/step - loss: 0.4277 - accuracy: 0.9762 - val_loss: 0.3756 - val_accuracy: 0.9524\n",
      "Epoch 126/200\n",
      "6/6 [==============================] - 0s 8ms/step - loss: 0.4255 - accuracy: 0.9762 - val_loss: 0.3733 - val_accuracy: 0.9524\n",
      "Epoch 127/200\n",
      "6/6 [==============================] - 0s 8ms/step - loss: 0.4234 - accuracy: 0.9762 - val_loss: 0.3716 - val_accuracy: 0.9524\n",
      "Epoch 128/200\n",
      "6/6 [==============================] - 0s 8ms/step - loss: 0.4206 - accuracy: 0.9762 - val_loss: 0.3696 - val_accuracy: 0.9524\n",
      "Epoch 129/200\n",
      "6/6 [==============================] - 0s 8ms/step - loss: 0.4184 - accuracy: 0.9762 - val_loss: 0.3680 - val_accuracy: 0.9048\n",
      "Epoch 130/200\n",
      "6/6 [==============================] - 0s 8ms/step - loss: 0.4162 - accuracy: 0.9643 - val_loss: 0.3661 - val_accuracy: 0.9048\n",
      "Epoch 131/200\n",
      "6/6 [==============================] - 0s 9ms/step - loss: 0.4137 - accuracy: 0.9643 - val_loss: 0.3640 - val_accuracy: 0.9048\n",
      "Epoch 132/200\n",
      "6/6 [==============================] - 0s 11ms/step - loss: 0.4115 - accuracy: 0.9643 - val_loss: 0.3622 - val_accuracy: 0.9048\n",
      "Epoch 133/200\n",
      "6/6 [==============================] - 0s 10ms/step - loss: 0.4093 - accuracy: 0.9643 - val_loss: 0.3605 - val_accuracy: 0.9048\n",
      "Epoch 134/200\n",
      "6/6 [==============================] - 0s 10ms/step - loss: 0.4069 - accuracy: 0.9643 - val_loss: 0.3587 - val_accuracy: 0.9048\n",
      "Epoch 135/200\n",
      "6/6 [==============================] - 0s 9ms/step - loss: 0.4050 - accuracy: 0.9643 - val_loss: 0.3566 - val_accuracy: 0.9048\n",
      "Epoch 136/200\n",
      "6/6 [==============================] - 0s 9ms/step - loss: 0.4026 - accuracy: 0.9643 - val_loss: 0.3549 - val_accuracy: 0.9048\n",
      "Epoch 137/200\n",
      "6/6 [==============================] - 0s 8ms/step - loss: 0.4004 - accuracy: 0.9643 - val_loss: 0.3530 - val_accuracy: 0.9524\n",
      "Epoch 138/200\n",
      "6/6 [==============================] - 0s 8ms/step - loss: 0.3983 - accuracy: 0.9762 - val_loss: 0.3511 - val_accuracy: 0.9524\n",
      "Epoch 139/200\n",
      "6/6 [==============================] - 0s 8ms/step - loss: 0.3963 - accuracy: 0.9762 - val_loss: 0.3490 - val_accuracy: 0.9524\n",
      "Epoch 140/200\n",
      "6/6 [==============================] - 0s 8ms/step - loss: 0.3940 - accuracy: 0.9762 - val_loss: 0.3472 - val_accuracy: 0.9524\n",
      "Epoch 141/200\n",
      "6/6 [==============================] - 0s 8ms/step - loss: 0.3919 - accuracy: 0.9762 - val_loss: 0.3455 - val_accuracy: 0.9524\n",
      "Epoch 142/200\n",
      "6/6 [==============================] - 0s 12ms/step - loss: 0.3898 - accuracy: 0.9762 - val_loss: 0.3438 - val_accuracy: 0.9524\n",
      "Epoch 143/200\n",
      "6/6 [==============================] - 0s 8ms/step - loss: 0.3877 - accuracy: 0.9762 - val_loss: 0.3421 - val_accuracy: 0.9524\n",
      "Epoch 144/200\n",
      "6/6 [==============================] - 0s 8ms/step - loss: 0.3856 - accuracy: 0.9762 - val_loss: 0.3403 - val_accuracy: 0.9524\n",
      "Epoch 145/200\n",
      "6/6 [==============================] - 0s 8ms/step - loss: 0.3836 - accuracy: 0.9762 - val_loss: 0.3385 - val_accuracy: 0.9524\n",
      "Epoch 146/200\n",
      "6/6 [==============================] - 0s 8ms/step - loss: 0.3816 - accuracy: 0.9762 - val_loss: 0.3368 - val_accuracy: 0.9524\n",
      "Epoch 147/200\n",
      "6/6 [==============================] - 0s 8ms/step - loss: 0.3796 - accuracy: 0.9762 - val_loss: 0.3351 - val_accuracy: 0.9524\n",
      "Epoch 148/200\n",
      "6/6 [==============================] - 0s 8ms/step - loss: 0.3776 - accuracy: 0.9762 - val_loss: 0.3333 - val_accuracy: 0.9524\n",
      "Epoch 149/200\n",
      "6/6 [==============================] - 0s 8ms/step - loss: 0.3757 - accuracy: 0.9762 - val_loss: 0.3316 - val_accuracy: 0.9524\n",
      "Epoch 150/200\n",
      "6/6 [==============================] - 0s 9ms/step - loss: 0.3738 - accuracy: 0.9762 - val_loss: 0.3295 - val_accuracy: 0.9524\n",
      "Epoch 151/200\n",
      "6/6 [==============================] - 0s 8ms/step - loss: 0.3719 - accuracy: 0.9881 - val_loss: 0.3274 - val_accuracy: 0.9524\n",
      "Epoch 152/200\n",
      "6/6 [==============================] - 0s 8ms/step - loss: 0.3698 - accuracy: 0.9762 - val_loss: 0.3259 - val_accuracy: 0.9524\n",
      "Epoch 153/200\n",
      "6/6 [==============================] - 0s 8ms/step - loss: 0.3680 - accuracy: 0.9762 - val_loss: 0.3245 - val_accuracy: 0.9524\n",
      "Epoch 154/200\n",
      "6/6 [==============================] - 0s 8ms/step - loss: 0.3660 - accuracy: 0.9762 - val_loss: 0.3231 - val_accuracy: 0.9524\n",
      "Epoch 155/200\n",
      "6/6 [==============================] - 0s 8ms/step - loss: 0.3641 - accuracy: 0.9762 - val_loss: 0.3217 - val_accuracy: 0.9524\n",
      "Epoch 156/200\n",
      "6/6 [==============================] - 0s 8ms/step - loss: 0.3620 - accuracy: 0.9881 - val_loss: 0.3207 - val_accuracy: 0.9524\n",
      "Epoch 157/200\n",
      "6/6 [==============================] - 0s 8ms/step - loss: 0.3602 - accuracy: 0.9881 - val_loss: 0.3192 - val_accuracy: 0.9524\n",
      "Epoch 158/200\n",
      "6/6 [==============================] - 0s 8ms/step - loss: 0.3583 - accuracy: 0.9881 - val_loss: 0.3178 - val_accuracy: 0.9524\n",
      "Epoch 159/200\n",
      "6/6 [==============================] - 0s 8ms/step - loss: 0.3566 - accuracy: 0.9881 - val_loss: 0.3168 - val_accuracy: 0.9524\n",
      "Epoch 160/200\n",
      "6/6 [==============================] - 0s 8ms/step - loss: 0.3549 - accuracy: 0.9762 - val_loss: 0.3155 - val_accuracy: 0.9524\n",
      "Epoch 161/200\n",
      "6/6 [==============================] - 0s 8ms/step - loss: 0.3529 - accuracy: 0.9762 - val_loss: 0.3137 - val_accuracy: 0.9524\n",
      "Epoch 162/200\n",
      "6/6 [==============================] - 0s 8ms/step - loss: 0.3512 - accuracy: 0.9762 - val_loss: 0.3125 - val_accuracy: 0.9524\n",
      "Epoch 163/200\n",
      "6/6 [==============================] - 0s 8ms/step - loss: 0.3494 - accuracy: 0.9881 - val_loss: 0.3112 - val_accuracy: 0.9524\n",
      "Epoch 164/200\n",
      "6/6 [==============================] - 0s 8ms/step - loss: 0.3475 - accuracy: 0.9881 - val_loss: 0.3096 - val_accuracy: 0.9524\n",
      "Epoch 165/200\n",
      "6/6 [==============================] - 0s 8ms/step - loss: 0.3459 - accuracy: 0.9881 - val_loss: 0.3080 - val_accuracy: 0.9524\n",
      "Epoch 166/200\n",
      "6/6 [==============================] - 0s 8ms/step - loss: 0.3440 - accuracy: 0.9881 - val_loss: 0.3066 - val_accuracy: 0.9524\n",
      "Epoch 167/200\n",
      "6/6 [==============================] - 0s 8ms/step - loss: 0.3424 - accuracy: 0.9881 - val_loss: 0.3051 - val_accuracy: 0.9524\n",
      "Epoch 168/200\n",
      "6/6 [==============================] - 0s 8ms/step - loss: 0.3405 - accuracy: 0.9881 - val_loss: 0.3039 - val_accuracy: 0.9524\n",
      "Epoch 169/200\n",
      "6/6 [==============================] - 0s 8ms/step - loss: 0.3389 - accuracy: 0.9881 - val_loss: 0.3027 - val_accuracy: 0.9524\n",
      "Epoch 170/200\n",
      "6/6 [==============================] - 0s 8ms/step - loss: 0.3371 - accuracy: 0.9881 - val_loss: 0.3013 - val_accuracy: 0.9524\n",
      "Epoch 171/200\n",
      "6/6 [==============================] - 0s 8ms/step - loss: 0.3354 - accuracy: 0.9881 - val_loss: 0.3001 - val_accuracy: 0.9524\n",
      "Epoch 172/200\n",
      "6/6 [==============================] - 0s 8ms/step - loss: 0.3340 - accuracy: 0.9881 - val_loss: 0.2995 - val_accuracy: 0.9524\n",
      "Epoch 173/200\n",
      "6/6 [==============================] - 0s 8ms/step - loss: 0.3321 - accuracy: 0.9881 - val_loss: 0.2986 - val_accuracy: 0.9524\n",
      "Epoch 174/200\n",
      "6/6 [==============================] - 0s 8ms/step - loss: 0.3306 - accuracy: 0.9762 - val_loss: 0.2974 - val_accuracy: 0.9524\n",
      "Epoch 175/200\n",
      "6/6 [==============================] - 0s 8ms/step - loss: 0.3288 - accuracy: 0.9762 - val_loss: 0.2958 - val_accuracy: 0.9524\n",
      "Epoch 176/200\n",
      "6/6 [==============================] - 0s 9ms/step - loss: 0.3275 - accuracy: 0.9881 - val_loss: 0.2944 - val_accuracy: 0.9524\n",
      "Epoch 177/200\n",
      "6/6 [==============================] - 0s 10ms/step - loss: 0.3257 - accuracy: 0.9881 - val_loss: 0.2929 - val_accuracy: 0.9524\n",
      "Epoch 178/200\n",
      "6/6 [==============================] - 0s 9ms/step - loss: 0.3239 - accuracy: 0.9881 - val_loss: 0.2917 - val_accuracy: 0.9524\n",
      "Epoch 179/200\n",
      "6/6 [==============================] - 0s 10ms/step - loss: 0.3223 - accuracy: 0.9881 - val_loss: 0.2904 - val_accuracy: 0.9524\n",
      "Epoch 180/200\n",
      "6/6 [==============================] - 0s 13ms/step - loss: 0.3207 - accuracy: 0.9762 - val_loss: 0.2890 - val_accuracy: 0.9524\n",
      "Epoch 181/200\n",
      "6/6 [==============================] - 0s 10ms/step - loss: 0.3190 - accuracy: 0.9762 - val_loss: 0.2878 - val_accuracy: 0.9524\n",
      "Epoch 182/200\n",
      "6/6 [==============================] - 0s 10ms/step - loss: 0.3174 - accuracy: 0.9762 - val_loss: 0.2866 - val_accuracy: 0.9524\n",
      "Epoch 183/200\n",
      "6/6 [==============================] - 0s 9ms/step - loss: 0.3158 - accuracy: 0.9762 - val_loss: 0.2854 - val_accuracy: 0.9524\n",
      "Epoch 184/200\n",
      "6/6 [==============================] - 0s 9ms/step - loss: 0.3142 - accuracy: 0.9762 - val_loss: 0.2840 - val_accuracy: 0.9524\n",
      "Epoch 185/200\n",
      "6/6 [==============================] - 0s 9ms/step - loss: 0.3127 - accuracy: 0.9762 - val_loss: 0.2828 - val_accuracy: 0.9524\n",
      "Epoch 186/200\n",
      "6/6 [==============================] - 0s 10ms/step - loss: 0.3112 - accuracy: 0.9762 - val_loss: 0.2811 - val_accuracy: 0.9524\n",
      "Epoch 187/200\n",
      "6/6 [==============================] - 0s 10ms/step - loss: 0.3103 - accuracy: 0.9643 - val_loss: 0.2793 - val_accuracy: 0.9524\n",
      "Epoch 188/200\n",
      "6/6 [==============================] - 0s 10ms/step - loss: 0.3082 - accuracy: 0.9643 - val_loss: 0.2780 - val_accuracy: 0.9524\n",
      "Epoch 189/200\n",
      "6/6 [==============================] - 0s 10ms/step - loss: 0.3067 - accuracy: 0.9643 - val_loss: 0.2769 - val_accuracy: 0.9524\n",
      "Epoch 190/200\n",
      "6/6 [==============================] - 0s 10ms/step - loss: 0.3054 - accuracy: 0.9643 - val_loss: 0.2762 - val_accuracy: 0.9524\n",
      "Epoch 191/200\n",
      "6/6 [==============================] - 0s 9ms/step - loss: 0.3040 - accuracy: 0.9643 - val_loss: 0.2755 - val_accuracy: 0.9524\n",
      "Epoch 192/200\n",
      "6/6 [==============================] - 0s 9ms/step - loss: 0.3021 - accuracy: 0.9762 - val_loss: 0.2745 - val_accuracy: 0.9524\n",
      "Epoch 193/200\n",
      "6/6 [==============================] - 0s 9ms/step - loss: 0.3006 - accuracy: 0.9762 - val_loss: 0.2733 - val_accuracy: 0.9524\n",
      "Epoch 194/200\n",
      "6/6 [==============================] - 0s 8ms/step - loss: 0.2991 - accuracy: 0.9762 - val_loss: 0.2722 - val_accuracy: 0.9524\n",
      "Epoch 195/200\n",
      "6/6 [==============================] - 0s 9ms/step - loss: 0.2976 - accuracy: 0.9762 - val_loss: 0.2708 - val_accuracy: 0.9524\n",
      "Epoch 196/200\n",
      "6/6 [==============================] - 0s 10ms/step - loss: 0.2963 - accuracy: 0.9643 - val_loss: 0.2694 - val_accuracy: 0.9524\n",
      "Epoch 197/200\n",
      "6/6 [==============================] - 0s 9ms/step - loss: 0.2948 - accuracy: 0.9643 - val_loss: 0.2683 - val_accuracy: 0.9524\n",
      "Epoch 198/200\n",
      "6/6 [==============================] - 0s 9ms/step - loss: 0.2933 - accuracy: 0.9643 - val_loss: 0.2673 - val_accuracy: 0.9524\n",
      "Epoch 199/200\n",
      "6/6 [==============================] - 0s 9ms/step - loss: 0.2920 - accuracy: 0.9643 - val_loss: 0.2662 - val_accuracy: 0.9524\n",
      "Epoch 200/200\n",
      "6/6 [==============================] - 0s 10ms/step - loss: 0.2905 - accuracy: 0.9643 - val_loss: 0.2651 - val_accuracy: 0.9524\n"
     ]
    }
   ],
   "source": [
    "tf_fit = model.fit(\n",
    "    x=X_train_std, y=y_train, batch_size=16, validation_split=0.2, epochs=200, verbose=1\n",
    ")"
   ]
  },
  {
   "cell_type": "code",
   "execution_count": 8,
   "metadata": {},
   "outputs": [
    {
     "data": {
      "text/html": [
       "<div>\n",
       "<style scoped>\n",
       "    .dataframe tbody tr th:only-of-type {\n",
       "        vertical-align: middle;\n",
       "    }\n",
       "\n",
       "    .dataframe tbody tr th {\n",
       "        vertical-align: top;\n",
       "    }\n",
       "\n",
       "    .dataframe thead th {\n",
       "        text-align: right;\n",
       "    }\n",
       "</style>\n",
       "<table border=\"1\" class=\"dataframe\">\n",
       "  <thead>\n",
       "    <tr style=\"text-align: right;\">\n",
       "      <th></th>\n",
       "      <th>loss</th>\n",
       "      <th>accuracy</th>\n",
       "      <th>val_loss</th>\n",
       "      <th>val_accuracy</th>\n",
       "    </tr>\n",
       "  </thead>\n",
       "  <tbody>\n",
       "    <tr>\n",
       "      <th>0</th>\n",
       "      <td>1.157401</td>\n",
       "      <td>0.345238</td>\n",
       "      <td>1.071422</td>\n",
       "      <td>0.285714</td>\n",
       "    </tr>\n",
       "    <tr>\n",
       "      <th>1</th>\n",
       "      <td>1.129958</td>\n",
       "      <td>0.345238</td>\n",
       "      <td>1.055360</td>\n",
       "      <td>0.285714</td>\n",
       "    </tr>\n",
       "    <tr>\n",
       "      <th>2</th>\n",
       "      <td>1.108474</td>\n",
       "      <td>0.345238</td>\n",
       "      <td>1.037670</td>\n",
       "      <td>0.285714</td>\n",
       "    </tr>\n",
       "    <tr>\n",
       "      <th>3</th>\n",
       "      <td>1.087476</td>\n",
       "      <td>0.345238</td>\n",
       "      <td>1.020298</td>\n",
       "      <td>0.333333</td>\n",
       "    </tr>\n",
       "    <tr>\n",
       "      <th>4</th>\n",
       "      <td>1.066732</td>\n",
       "      <td>0.404762</td>\n",
       "      <td>1.006646</td>\n",
       "      <td>0.571429</td>\n",
       "    </tr>\n",
       "  </tbody>\n",
       "</table>\n",
       "</div>"
      ],
      "text/plain": [
       "       loss  accuracy  val_loss  val_accuracy\n",
       "0  1.157401  0.345238  1.071422      0.285714\n",
       "1  1.129958  0.345238  1.055360      0.285714\n",
       "2  1.108474  0.345238  1.037670      0.285714\n",
       "3  1.087476  0.345238  1.020298      0.333333\n",
       "4  1.066732  0.404762  1.006646      0.571429"
      ]
     },
     "execution_count": 8,
     "metadata": {},
     "output_type": "execute_result"
    }
   ],
   "source": [
    "# Inspect the training history\n",
    "df = pd.DataFrame(tf_fit.history)\n",
    "df.head()"
   ]
  },
  {
   "cell_type": "code",
   "execution_count": 9,
   "metadata": {},
   "outputs": [
    {
     "data": {
      "text/plain": [
       "<Axes: title={'center': 'Loss'}, xlabel='Epoch', ylabel='Loss'>"
      ]
     },
     "execution_count": 9,
     "metadata": {},
     "output_type": "execute_result"
    },
    {
     "data": {
      "image/png": "[encoded data removed]",
      "text/plain": [
       "<Figure size 1200x500 with 2 Axes>"
      ]
     },
     "metadata": {},
     "output_type": "display_data"
    }
   ],
   "source": [
    "fig, axes = plt.subplots(nrows=1, ncols=2, figsize=(12, 5))\n",
    "\n",
    "df[[\"loss\", \"val_loss\"]].plot(\n",
    "    ax=axes[0], title=\"Loss\", grid=True, legend=True, xlabel=\"Epoch\", ylabel=\"Loss\"\n",
    ")\n",
    "\n",
    "df[[\"accuracy\", \"val_accuracy\"]].plot(\n",
    "    ax=axes[1], title=\"Loss\", grid=True, legend=True, xlabel=\"Epoch\", ylabel=\"Loss\"\n",
    ")"
   ]
  },
  {
   "cell_type": "markdown",
   "metadata": {},
   "source": [
    "loss ยิ่งน้อยยิ่งดี (ลดลง ดี!!)\n",
    "Accuracy ยิ่งเยอะยิ่งดี เส้นสีส้มไม่ควรตกลงเยอะ\n",
    "ถ้ากดรันมันจะประมวลผลอีกรอบ แล้วมันจะแปกๆ"
   ]
  },
  {
   "cell_type": "markdown",
   "metadata": {},
   "source": [
    "## Model evaluation\n"
   ]
  },
  {
   "cell_type": "code",
   "execution_count": 10,
   "metadata": {},
   "outputs": [
    {
     "name": "stdout",
     "output_type": "stream",
     "text": [
      "Test loss: 0.2760   Test Acc.: 0.9556\n"
     ]
    }
   ],
   "source": [
    "results = model.evaluate(X_test_std, y_test, verbose=0)\n",
    "print(f\"Test loss: {results[0]:.4f}   Test Acc.: {results[1]:.4f}\")"
   ]
  },
  {
   "cell_type": "markdown",
   "metadata": {},
   "source": [
    "## Prediction\n"
   ]
  },
  {
   "cell_type": "code",
   "execution_count": 11,
   "metadata": {},
   "outputs": [
    {
     "name": "stdout",
     "output_type": "stream",
     "text": [
      "[[0.00363281 0.2899956  0.7063716 ]\n",
      " [0.8997861  0.09912123 0.00109266]\n",
      " [0.8987408  0.10018887 0.0010703 ]]\n"
     ]
    }
   ],
   "source": [
    "y_hat = model(X_test_std[:3])\n",
    "print(y_hat.numpy())"
   ]
  },
  {
   "cell_type": "markdown",
   "metadata": {},
   "source": [
    "แถวที่ 1 คือการทำนายของดอกที่ 1\n",
    "\n",
    "แถวที่ 2 คือการทำนายของดอกที่ 2\n",
    "\n",
    "แถวที่ 3 คือการทำนายของดอกที่ 3"
   ]
  },
  {
   "cell_type": "code",
   "execution_count": 12,
   "metadata": {},
   "outputs": [
    {
     "data": {
      "image/png": "[encoded data removed]",
      "text/plain": [
       "<Figure size 640x480 with 1 Axes>"
      ]
     },
     "metadata": {},
     "output_type": "display_data"
    }
   ],
   "source": [
    "yp = y_hat.numpy()[0]\n",
    "xp = list(range(yp.shape[0]))\n",
    "plt.bar(xp, yp)\n",
    "plt.title(\"Softmax Values\")\n",
    "plt.show()"
   ]
  },
  {
   "cell_type": "code",
   "execution_count": 13,
   "metadata": {},
   "outputs": [
    {
     "data": {
      "text/plain": [
       "array([2, 0, 0])"
      ]
     },
     "execution_count": 13,
     "metadata": {},
     "output_type": "execute_result"
    }
   ],
   "source": [
    "np.argmax(y_hat, axis=1)"
   ]
  },
  {
   "cell_type": "markdown",
   "metadata": {},
   "source": [
    "## Decision surface\n"
   ]
  },
  {
   "cell_type": "code",
   "execution_count": 14,
   "metadata": {},
   "outputs": [
    {
     "name": "stdout",
     "output_type": "stream",
     "text": [
      "100/313 [========>.....................] - ETA: 0s"
     ]
    },
    {
     "name": "stderr",
     "output_type": "stream",
     "text": [
      "2024-03-01 15:14:38.026207: I tensorflow/core/grappler/optimizers/custom_graph_optimizer_registry.cc:114] Plugin optimizer for device_type GPU is enabled.\n"
     ]
    },
    {
     "name": "stdout",
     "output_type": "stream",
     "text": [
      "313/313 [==============================] - 0s 1ms/step\n"
     ]
    },
    {
     "data": {
      "image/png": "[encoded data removed]",
      "text/plain": [
       "<Figure size 600x500 with 1 Axes>"
      ]
     },
     "metadata": {},
     "output_type": "display_data"
    }
   ],
   "source": [
    "XP = sc.transform(X)\n",
    "x_min = XP[:, 0].min() - 0.1\n",
    "x_max = XP[:, 0].max() + 0.1\n",
    "y_min = XP[:, 1].min() - 0.1\n",
    "y_max = XP[:, 1].max() + 0.1\n",
    "\n",
    "xx, yy = np.meshgrid(np.linspace(x_min, x_max, 100), np.linspace(y_min, y_max, 100))\n",
    "f, ax = plt.subplots(1, 1, figsize=(6, 5))\n",
    "Z = model.predict(np.c_[xx.ravel(), yy.ravel()])\n",
    "Z = np.argmax(Z, axis=1)  # Find the class label\n",
    "Z = Z.reshape(xx.shape)\n",
    "\n",
    "ax.contourf(xx, yy, Z, alpha=0.3)\n",
    "markers = (\"s\", \"^\", \"o\", \"v\", \"x\")\n",
    "for idx, lb in enumerate(np.unique(y_test)):\n",
    "    ax.scatter(\n",
    "        X_test_std[y_test == lb, 0],\n",
    "        X_test_std[y_test == lb, 1],\n",
    "        marker=markers[idx],\n",
    "        s=50,\n",
    "    )\n",
    "\n",
    "ax.set_title(\"ANN\")\n",
    "ax.set_xlabel(\"X1\")\n",
    "ax.set_ylabel(\"X2\")\n",
    "plt.tight_layout(pad=3.0)\n",
    "plt.show()"
   ]
  }
 ],
 "metadata": {
  "kernelspec": {
   "display_name": "Python 3.9.12 ('tf')",
   "language": "python",
   "name": "python3"
  },
  "language_info": {
   "codemirror_mode": {
    "name": "ipython",
    "version": 3
   },
   "file_extension": ".py",
   "mimetype": "text/x-python",
   "name": "python",
   "nbconvert_exporter": "python",
   "pygments_lexer": "ipython3",
   "version": "3.11.8"
  },
  "orig_nbformat": 4,
  "vscode": {
   "interpreter": {
    "hash": "3f531f38061d288ff7109e336294c007d5438e97f3aa4943df1d0053d1256d75"
   }
  }
 },
 "nbformat": 4,
 "nbformat_minor": 2
}
