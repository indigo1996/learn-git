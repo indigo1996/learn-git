{
 "cells": [
  {
   "cell_type": "markdown",
   "metadata": {},
   "source": [
    "# Using GridSearchCV with Tensorflor: Regression"
   ]
  },
  {
   "cell_type": "code",
   "execution_count": null,
   "metadata": {},
   "outputs": [],
   "source": [
    "import pandas as pd\n",
    "from sklearn.model_selection import train_test_split\n",
    "from sklearn.preprocessing import StandardScaler\n",
    "from sklearn.model_selection import GridSearchCV\n",
    "from sklearn.metrics import mean_absolute_percentage_error\n",
    "\n",
    "import tensorflow as tf\n",
    "from sklearn.model_selection import train_test_split\n",
    "from sklearn.preprocessing import StandardScaler\n",
    "from sklearn.preprocessing import MinMaxScaler\n",
    "import pandas as pd\n",
    "\n",
    "from scikeras.wrappers import KerasRegressor"
   ]
  },
  {
   "cell_type": "code",
   "execution_count": null,
   "metadata": {},
   "outputs": [],
   "source": [
    "# df = pd.read_excel(\"housing_data.xlsx\")\n",
    "url = \"https://raw.githubusercontent.com/ie-ai-class/ai-2566-2/main/T6%20-%20ANN/S02%20-%20Regression/housing_data.csv\"\n",
    "df = pd.read_csv(url)\n",
    "df.head()"
   ]
  },
  {
   "cell_type": "code",
   "execution_count": null,
   "metadata": {},
   "outputs": [],
   "source": [
    "# Shuffle data\n",
    "df = df.sample(frac=1, random_state=1)\n",
    "\n",
    "# Extract data\n",
    "\n",
    "colsX = [i for i in df.columns if i != \"MEDV\"]\n",
    "X = df[colsX].values\n",
    "y = df[\"MEDV\"].values\n",
    "print(X.shape)\n",
    "\n",
    "# Split data\n",
    "X_train, X_test, y_train, y_test = train_test_split(X, y, test_size=0.3, random_state=0)\n",
    "\n",
    "# Standardization\n",
    "sc = StandardScaler()\n",
    "sc.fit(X_train)\n",
    "X_train_std = sc.transform(X_train)\n",
    "X_test_std = sc.transform(X_test)\n",
    "\n",
    "# Scale y data\n",
    "nm = MinMaxScaler()\n",
    "y_train = y_train.reshape(-1, 1)  # Required for sklearn api\n",
    "y_test = y_test.reshape(-1, 1)\n",
    "nm.fit(y_train)\n",
    "y_train_scaled = nm.transform(y_train)\n",
    "y_test_scaled = nm.transform(y_test)"
   ]
  },
  {
   "cell_type": "code",
   "execution_count": null,
   "metadata": {},
   "outputs": [],
   "source": [
    "def get_clf_model(hidden_layer_sizes, meta, compile_kwargs):\n",
    "\n",
    "    model = tf.keras.Sequential()\n",
    "    input_layer = tf.keras.layers.Input(shape=(meta[\"n_features_in_\"]))\n",
    "    model.add(input_layer)\n",
    "\n",
    "    for i, hidden_layer_size in enumerate(hidden_layer_sizes):\n",
    "        hidden_layer = tf.keras.layers.Dense(\n",
    "            units=hidden_layer_size, activation=\"relu\", name=f\"hidden{i+1}\"\n",
    "        )\n",
    "        model.add(hidden_layer)\n",
    "\n",
    "    output_layer = tf.keras.layers.Dense(units=1, name=\"output\")\n",
    "    model.add(output_layer)\n",
    "\n",
    "    model.compile(\n",
    "        optimizer=compile_kwargs[\"optimizer\"],\n",
    "        loss=\"mean_squared_error\",\n",
    "        metrics=[tf.keras.metrics.mean_absolute_percentage_error],\n",
    "    )\n",
    "\n",
    "    return model"
   ]
  },
  {
   "cell_type": "code",
   "execution_count": null,
   "metadata": {},
   "outputs": [],
   "source": [
    "tf.keras.backend.clear_session()\n",
    "tf.keras.backend.set_epsilon(1)"
   ]
  },
  {
   "cell_type": "code",
   "execution_count": null,
   "metadata": {},
   "outputs": [],
   "source": [
    "# Note that I am setting validation_split=0, because already use GridSearchCV which has cross-validation.\n",
    "\n",
    "clf = KerasRegressor(\n",
    "    model=get_clf_model,\n",
    "    hidden_layer_sizes=(16,),\n",
    "    optimizer=\"adam\",\n",
    "    optimizer__learning_rate=0.001,\n",
    "    epochs=200,\n",
    "    batch_size=16,\n",
    "    validation_split=0.2,  \n",
    "    verbose=1,\n",
    ")"
   ]
  },
  {
   "cell_type": "code",
   "execution_count": null,
   "metadata": {},
   "outputs": [],
   "source": [
    "set1 = {\n",
    "    \"optimizer__learning_rate\": [0.01, 0.1],\n",
    "    \"hidden_layer_sizes\": [(16, 3), (8, 3)],\n",
    "}\n",
    "\n",
    "param_grid = [set1]"
   ]
  },
  {
   "cell_type": "code",
   "execution_count": null,
   "metadata": {},
   "outputs": [],
   "source": [
    "gs = GridSearchCV(estimator=clf, \n",
    "                  param_grid=param_grid, \n",
    "                  scoring='neg_mean_squared_error', \n",
    "                  cv=5,\n",
    "                  n_jobs=-1)"
   ]
  },
  {
   "cell_type": "code",
   "execution_count": null,
   "metadata": {},
   "outputs": [],
   "source": [
    "gs.fit(X_train_std,y_train)"
   ]
  },
  {
   "cell_type": "code",
   "execution_count": null,
   "metadata": {},
   "outputs": [],
   "source": [
    "df = pd.DataFrame(gs.cv_results_)\n",
    "df = df.sort_values(by=['rank_test_score'])\n",
    "display(df.head())"
   ]
  },
  {
   "cell_type": "code",
   "execution_count": null,
   "metadata": {},
   "outputs": [],
   "source": [
    "print(gs.best_score_)\n",
    "print(gs.best_params_)"
   ]
  },
  {
   "cell_type": "code",
   "execution_count": null,
   "metadata": {},
   "outputs": [],
   "source": [
    "y_pred = gs.predict(X_test_std)\n",
    "print(mean_absolute_percentage_error(y_test, y_pred))"
   ]
  }
 ],
 "metadata": {
  "kernelspec": {
   "display_name": "Python 3",
   "language": "python",
   "name": "python3"
  },
  "language_info": {
   "codemirror_mode": {
    "name": "ipython",
    "version": 3
   },
   "file_extension": ".py",
   "mimetype": "text/x-python",
   "name": "python",
   "nbconvert_exporter": "python",
   "pygments_lexer": "ipython3",
   "version": "3.11.8"
  }
 },
 "nbformat": 4,
 "nbformat_minor": 2
}
